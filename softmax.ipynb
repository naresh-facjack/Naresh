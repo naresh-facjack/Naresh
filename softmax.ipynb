{
  "nbformat": 4,
  "nbformat_minor": 0,
  "metadata": {
    "colab": {
      "name": "softmax.ipynb",
      "provenance": []
    },
    "kernelspec": {
      "name": "python3",
      "display_name": "Python 3"
    }
  },
  "cells": [
    {
      "cell_type": "code",
      "metadata": {
        "id": "NDpEhQO63YQp"
      },
      "source": [
        "from keras.datasets import mnist\n",
        "from tensorflow.keras.datasets import mnist\n",
        "import numpy as np\n",
        "import matplotlib.pyplot as plt"
      ],
      "execution_count": 1,
      "outputs": []
    },
    {
      "cell_type": "code",
      "metadata": {
        "id": "klHQqW2V3yUt",
        "outputId": "5db42f15-733a-411e-85ba-2d10f7167d5c",
        "colab": {
          "base_uri": "https://localhost:8080/",
          "height": 121
        }
      },
      "source": [
        "(x_train, y_train), (x_test, y_test) = mnist.load_data()  # dataset\n",
        "print(x_train.shape)  # shapes \n",
        "print(y_train.shape)\n",
        "print(x_test.shape)\n",
        "print(y_test.shape)"
      ],
      "execution_count": 2,
      "outputs": [
        {
          "output_type": "stream",
          "text": [
            "Downloading data from https://storage.googleapis.com/tensorflow/tf-keras-datasets/mnist.npz\n",
            "11493376/11490434 [==============================] - 0s 0us/step\n",
            "(60000, 28, 28)\n",
            "(60000,)\n",
            "(10000, 28, 28)\n",
            "(10000,)\n"
          ],
          "name": "stdout"
        }
      ]
    },
    {
      "cell_type": "code",
      "metadata": {
        "id": "pa4UHkNO397k",
        "outputId": "61d3e4ee-8320-49e2-e62b-b7270bad6229",
        "colab": {
          "base_uri": "https://localhost:8080/",
          "height": 52
        }
      },
      "source": [
        "x_train = x_train.reshape((len(x_train), np.prod(x_train.shape[1:])))   \n",
        "x_test = x_test.reshape((len(x_test), np.prod(x_test.shape[1:])))\n",
        "\n",
        "print(x_train.shape)    # flattened input\n",
        "print(x_test.shape)"
      ],
      "execution_count": 3,
      "outputs": [
        {
          "output_type": "stream",
          "text": [
            "(60000, 784)\n",
            "(10000, 784)\n"
          ],
          "name": "stdout"
        }
      ]
    },
    {
      "cell_type": "code",
      "metadata": {
        "id": "i-HoWkot46dt",
        "outputId": "6da816c5-6dbc-4e0c-8f38-af0cccea90b3",
        "colab": {
          "base_uri": "https://localhost:8080/",
          "height": 83
        }
      },
      "source": [
        "numbers=20\n",
        "plt.figure(figsize=(14, 10))\n",
        "for i in range(numbers):\n",
        "        \n",
        "    # display original\n",
        "    ax = plt.subplot(2, numbers, i + 1)\n",
        "    plt.imshow(x_train[i].reshape(28, 28))\n",
        "    plt.gray()\n",
        "    ax.get_xaxis().set_visible(False)\n",
        "    ax.get_yaxis().set_visible(False)\n",
        "    plt.xticks([]), plt.yticks([])\n",
        "    plt.title(y_train[i])\n",
        "    \n",
        "plt.show()"
      ],
      "execution_count": 4,
      "outputs": [
        {
          "output_type": "display_data",
          "data": {
            "image/png": "[encoded data removed]",
            "text/plain": [
              "<Figure size 1008x720 with 20 Axes>"
            ]
          },
          "metadata": {
            "tags": []
          }
        }
      ]
    },
    {
      "cell_type": "code",
      "metadata": {
        "id": "hDVxE6m15oZJ",
        "outputId": "e2738eeb-0695-4cf9-d9b3-0ad600d3775e",
        "colab": {
          "base_uri": "https://localhost:8080/",
          "height": 282
        }
      },
      "source": [
        "XX_train = x_train.astype('float32')/255.\n",
        "XX_test = x_test.astype('float32')/255.\n",
        "plt.imshow(XX_train[9].reshape(28,28))"
      ],
      "execution_count": 7,
      "outputs": [
        {
          "output_type": "execute_result",
          "data": {
            "text/plain": [
              "<matplotlib.image.AxesImage at 0x7f6e45f75390>"
            ]
          },
          "metadata": {
            "tags": []
          },
          "execution_count": 7
        },
        {
          "output_type": "display_data",
          "data": {
            "image/png": "[encoded data removed]",
            "text/plain": [
              "<Figure size 432x288 with 1 Axes>"
            ]
          },
          "metadata": {
            "tags": [],
            "needs_background": "light"
          }
        }
      ]
    },
    {
      "cell_type": "code",
      "metadata": {
        "id": "dqBFLByO5t4w",
        "outputId": "5aa325d3-2a95-439e-f6b4-485a86dbc3b4",
        "colab": {
          "base_uri": "https://localhost:8080/",
          "height": 86
        }
      },
      "source": [
        "def one_hot_encoding(y_train):                    # 1 hot encoding for 10 classes\n",
        "    y = np.empty([len(y_train),10],dtype = int)\n",
        "    for i in range(len(y_train)):\n",
        "        a = y_train[i]\n",
        "        b = np.zeros(10,dtype = int) \n",
        "        b[a] = 1\n",
        "        y[i] = b\n",
        "    return y.T\n",
        "\n",
        "YY_train = one_hot_encoding(y_train)\n",
        "YY_test = one_hot_encoding(y_test)\n",
        "\n",
        "XX_train = XX_train.T\n",
        "XX_test = XX_test.T\n",
        "\n",
        "print(XX_train.shape)\n",
        "print(YY_train.shape)\n",
        "print(XX_test.shape)\n",
        "print(YY_test.shape)"
      ],
      "execution_count": 8,
      "outputs": [
        {
          "output_type": "stream",
          "text": [
            "(784, 60000)\n",
            "(10, 60000)\n",
            "(784, 10000)\n",
            "(10, 10000)\n"
          ],
          "name": "stdout"
        }
      ]
    },
    {
      "cell_type": "code",
      "metadata": {
        "id": "hksLilVb5vrz"
      },
      "source": [
        "def softmax(Z):\n",
        "    expZ = np.exp(Z - np.max(Z))\n",
        "    return expZ / expZ.sum(axis=0, keepdims=True)\n"
      ],
      "execution_count": 9,
      "outputs": []
    },
    {
      "cell_type": "code",
      "metadata": {
        "id": "VnqAlxZL52Gl"
      },
      "source": [
        "def initialize_param(d):                  # parameter initilization\n",
        "    np.random.seed(1)\n",
        "    w = np.random.randn(d,10)/np.sqrt(d)\n",
        "    b = np.zeros((10,1))\n",
        "    params = {'w':w, 'b':b}\n",
        "    return params"
      ],
      "execution_count": 10,
      "outputs": []
    },
    {
      "cell_type": "code",
      "metadata": {
        "id": "XFKg3PSv564M"
      },
      "source": [
        "def forward(params, X, Y):\n",
        "    w = params['w']\n",
        "    b = params['b']\n",
        "    A = softmax(np.dot(w.T,X) + b)\n",
        "    m = X.shape[1]\n",
        "    cost = (-1/m)*np.sum(Y * np.log(A + 1e-8))\n",
        "    return A, cost"
      ],
      "execution_count": 11,
      "outputs": []
    },
    {
      "cell_type": "code",
      "metadata": {
        "id": "ngZGhHBG5-cr"
      },
      "source": [
        "def backprop(X, Y, A):\n",
        "    m = X.shape[1]\n",
        "    dw = (1/m)*np.dot(X,(A-Y).T)\n",
        "    db = (1/m)*np.sum(A-Y)\n",
        "    return dw, db"
      ],
      "execution_count": 12,
      "outputs": []
    },
    {
      "cell_type": "code",
      "metadata": {
        "id": "fbxQU2XZ6BEQ"
      },
      "source": [
        "def optimize(params, X, Y, num_iterations, l_rate):\n",
        "    w = params['w']\n",
        "    b = params['b']\n",
        "    costs = []\n",
        "    for i in range(num_iterations):\n",
        "        A, cost = forward(params, X, Y)\n",
        "        dw, db = backprop(X, Y, A)\n",
        "        params['w'] = params['w'] - l_rate*dw\n",
        "        params['b'] = params['b'] - l_rate*db\n",
        "        if i%100 == 0:\n",
        "            print('Cost on {0} interation: {1} {2} {3}'.format(i, cost, np.linalg.norm(dw), db))\n",
        "        costs.append(cost)\n",
        "    return params, costs"
      ],
      "execution_count": 13,
      "outputs": []
    },
    {
      "cell_type": "code",
      "metadata": {
        "id": "DYMsr_t56Ck7"
      },
      "source": [
        "def predict(params, X):\n",
        "    w = params['w']\n",
        "    print(w.shape, X.shape)\n",
        "    b = params['b']\n",
        "    m = X.shape[1]\n",
        "    A = softmax(np.dot(w.T,X)+b)\n",
        "    return A"
      ],
      "execution_count": 14,
      "outputs": []
    },
    {
      "cell_type": "code",
      "metadata": {
        "id": "BDN8Ro4M6G6p"
      },
      "source": [
        "def model(ip_dimension, X_train, Y_train, num_interation, l_rate):\n",
        "    parameters = initialize_param(ip_dimension)\n",
        "    parameters, costs = optimize(parameters, X_train, Y_train, num_interation, l_rate)\n",
        "    return parameters, costs"
      ],
      "execution_count": 15,
      "outputs": []
    },
    {
      "cell_type": "code",
      "metadata": {
        "id": "4GluEfVX6LKe",
        "outputId": "ce9f1b7f-c1e5-4a99-fb03-fccbc2f38484",
        "colab": {
          "base_uri": "https://localhost:8080/",
          "height": 191
        }
      },
      "source": [
        "parameters, costs = model(XX_train.shape[0], XX_train, YY_train, 1000, 0.1)"
      ],
      "execution_count": 16,
      "outputs": [
        {
          "output_type": "stream",
          "text": [
            "Cost on 0 interation: 2.436488226563119 1.1366058666201924 -2.8776980798284056e-17\n",
            "Cost on 100 interation: 0.6140793499129977 0.14731918378778483 2.220446049250313e-18\n",
            "Cost on 200 interation: 0.4934911939243358 0.08265392383436176 7.105427357601002e-19\n",
            "Cost on 300 interation: 0.4445869523096169 0.05938195955176011 1.2434497875801753e-18\n",
            "Cost on 400 interation: 0.4166164790036122 0.0471843013929549 4.440892098500626e-19\n",
            "Cost on 500 interation: 0.3979535328842856 0.03958973920139576 -3.552713678800501e-19\n",
            "Cost on 600 interation: 0.38435610251548524 0.03436324055036924 -7.105427357601002e-19\n",
            "Cost on 700 interation: 0.3738704917424687 0.030522324764162823 -1.8355687340469255e-18\n",
            "Cost on 800 interation: 0.3654578661304489 0.027565765114281958 6.513308411134252e-19\n",
            "Cost on 900 interation: 0.3585087183718252 0.02521028890483971 3.671137468093851e-18\n"
          ],
          "name": "stdout"
        }
      ]
    },
    {
      "cell_type": "code",
      "metadata": {
        "id": "tKTef59v8fTa",
        "outputId": "24f36067-b53d-46a3-a6f1-3410ac1fa364",
        "colab": {
          "base_uri": "https://localhost:8080/",
          "height": 86
        }
      },
      "source": [
        "print(\"Train accuracy: {} %\".format(100 - np.mean(np.abs(predict(parameters,XX_train) - YY_train)) * 100))\n",
        "print(\"Test accuracy: {} %\".format(100 - np.mean(np.abs(predict(parameters,XX_test) - YY_test)) * 100))"
      ],
      "execution_count": 17,
      "outputs": [
        {
          "output_type": "stream",
          "text": [
            "(784, 10) (784, 60000)\n",
            "Train accuracy: 96.20347450041757 %\n",
            "(784, 10) (784, 10000)\n",
            "Test accuracy: 96.35049632816649 %\n"
          ],
          "name": "stdout"
        }
      ]
    },
    {
      "cell_type": "code",
      "metadata": {
        "id": "3dFzfNqV8mgV",
        "outputId": "7ba9d4d9-4dde-487f-b0ff-9ac47e98d714",
        "colab": {
          "base_uri": "https://localhost:8080/",
          "height": 282
        }
      },
      "source": [
        "plt.plot(range(len(costs)),costs)"
      ],
      "execution_count": 18,
      "outputs": [
        {
          "output_type": "execute_result",
          "data": {
            "text/plain": [
              "[<matplotlib.lines.Line2D at 0x7f6e45f65518>]"
            ]
          },
          "metadata": {
            "tags": []
          },
          "execution_count": 18
        },
        {
          "output_type": "display_data",
          "data": {
            "image/png": "[encoded data removed]",
            "text/plain": [
              "<Figure size 432x288 with 1 Axes>"
            ]
          },
          "metadata": {
            "tags": [],
            "needs_background": "light"
          }
        }
      ]
    }
  ]
}